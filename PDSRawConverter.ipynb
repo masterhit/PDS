{
 "cells": [
  {
   "cell_type": "markdown",
   "metadata": {},
   "source": [
    "## CONVERSOR DE ARQUIVOS DE IMAGEM RAW DA MISSAO CASSINI - NASA/JPL/PDS\n",
    "#### Wandeclayt M./Projeto Ceu profundo *@ceuprofundo*\n",
    "\n",
    "LGPL 2.0\n",
    "\n",
    "Este script importa arquivos de imagem da missão Cassini-Huygens e de outras missões, \n",
    "disponibilizados no Planetary Data Service, busca informações sobre o formato dos dados\n",
    "no arquivo \\*.LBL e exporta um novo arquivo, compatível com editores de imagem."
   ]
  },
  {
   "cell_type": "code",
   "execution_count": null,
   "metadata": {},
   "outputs": [],
   "source": [
    "#Conversor de Arquivos de Imagem RAW (IMG)\n",
    "#do Planetary Data System (PDS) do JPL\n",
    "#\n",
    "#Author: Wandeclayt M./@CeuProfundo\n",
    "#\n",
    "# 1. Importa arquivo como Array Numpy 1D;\n",
    "# 2. Remove os Bytes iniciais (Header + Telemetria) do Array;\n",
    "# 3. Altera (Reshape) a geometria do Array para 2D (linhas, colunas)\n",
    "#\n",
    "# N1836255843_1.RAW\n",
    "\n",
    "\n",
    "import numpy as np\n",
    "import matplotlib.pyplot as plt\n",
    "import pandas as pd\n",
    "from scipy import misc\n",
    "from scipy import ndimage\n",
    "import math\n",
    "import re"
   ]
  },
  {
   "cell_type": "markdown",
   "metadata": {},
   "source": [
    "Insira aqui o nome do arquivo LBL associado ao arquivo de imagem."
   ]
  },
  {
   "cell_type": "code",
   "execution_count": null,
   "metadata": {},
   "outputs": [],
   "source": [
    "#Importa \"header\" (Arquivo *.LBL)\n",
    "\n",
    "LBL = input(\"Arquivo LBL :\")\n",
    "with open(LBL) as Header:\n",
    "    arquivoHeader = Header.read()\n",
    "print(arquivoHeader)"
   ]
  },
  {
   "cell_type": "code",
   "execution_count": null,
   "metadata": {},
   "outputs": [],
   "source": [
    "#Procura no texto do header (LBL) usando RegEx:\n",
    "#o tamanho em Bytes e o nome do arquivo.\n",
    "#os bytes de header e telemetria\n",
    "#o formato da imagem\n",
    "#a profundidade de bits\n",
    "\n",
    "\n",
    "recordBytes = re.findall(r\"^RECORD_BYTES\\s=\\s(.*)$\",arquivoHeader,re.M)\n",
    "recordBytes = int(recordBytes[0])\n",
    "print(\"recordBytes = \" + str(recordBytes))\n",
    "\n",
    "#Image Name\n",
    "\n",
    "imageName = re.findall(r\"IMAGE\\s=\\s\\(\\\"(.*)\\\"\",arquivoHeader,re.M)\n",
    "imageName = str(imageName[0])\n",
    "print(\"imageName = \" + imageName)\n",
    "\n",
    "#Discard Bytes\n",
    "\n",
    "discardBytes = re.findall(r\"\\sBYTES\\s=\\s(.*)$\",arquivoHeader,re.M)\n",
    "telemetryStartByte = re.findall(r\"START_BYTE\\s=\\s(.*)$\", arquivoHeader, re.M)\n",
    "\n",
    "########   Header\n",
    "\n",
    "headerBytes = int(discardBytes[0]) \n",
    "\n",
    "########   Telemetry\n",
    "\n",
    "telemetryBytes = int(discardBytes[1])\n",
    "telemetryStartByte = int(telemetryStartByte[0])\n",
    "\n",
    "#Sample Bits\n",
    "\n",
    "sampleBits = re.findall(r\"SAMPLE_BITS\\s=\\s(.*)$\",arquivoHeader,re.M)\n",
    "sampleBytes = int(int(sampleBits[0])/8)\n",
    "print(\"sampleBytes = \" + str(sampleBytes))\n",
    "\n",
    "########   Discard\n",
    "\n",
    "discardBytes = (headerBytes + telemetryBytes + telemetryStartByte)\n",
    "discardSamples = int(discardBytes/sampleBytes)\n",
    "print(\"headerBytes = \" + str(headerBytes))\n",
    "print(\"telemetryBytes = \" + str(telemetryBytes))\n",
    "print(\"telemetryStartByte = \" + str(telemetryStartByte))\n",
    "print(\"discardBytes = \" + str(discardBytes) + \" (Header + Telemetry Bytes + telemetryStartByte)\")\n",
    "print(\"discardSamples = \" + str(discardSamples) + \" (discardBytes/discardSamples)\")\n",
    "\n",
    "#Image Lines\n",
    "\n",
    "imageLines = re.findall(r\"\\sLINES\\s=\\s(.*)$\",arquivoHeader,re.M)\n",
    "imageLines = int(imageLines[0])\n",
    "print(\"imageLines = \" + str(imageLines))\n",
    "\n",
    "#Line Samples\n",
    "\n",
    "lineSamples = re.findall(r\"\\sLINE_SAMPLES\\s=\\s(.*)$\",arquivoHeader,re.M)\n",
    "lineSamples = int(lineSamples[0])\n",
    "print(\"lineSamples = \" + str(lineSamples))\n",
    "\n",
    "#Prefix Bytes\n",
    "\n",
    "prefixBytes = re.findall(r\"\\sLINE_PREFIX_BYTES\\s=\\s(.*)$\",arquivoHeader,re.M)\n",
    "prefixBytes = int(prefixBytes[0])\n",
    "print(\"prefixBytes = \" + str(prefixBytes))\n",
    "\n",
    "extendedLine = int(lineSamples + prefixBytes/sampleBytes)\n",
    "print(\"extendedLine = \" + str(extendedLine) + \" (lineSamples + prefixBytes/sampleBytes)\")\n"
   ]
  },
  {
   "cell_type": "code",
   "execution_count": null,
   "metadata": {},
   "outputs": [],
   "source": [
    "datatype = 'int' + str(sampleBytes * 8)\n",
    "datatype"
   ]
  },
  {
   "cell_type": "code",
   "execution_count": null,
   "metadata": {},
   "outputs": [],
   "source": [
    "ArquivoRaw = np.fromfile(imageName, dtype=datatype, sep=\"\")\n",
    "print(\"ArquivoRaw.shape: %d\", ArquivoRaw.shape)\n",
    "print(\"ArquivoRaw: \", ArquivoRaw)\n",
    "\n",
    "shape = ArquivoRaw.shape[0]\n",
    "print(shape)\n",
    "\n",
    "print(str(1024 * 1036))\n",
    "\n",
    "ArquivoSemHeader = ArquivoRaw[discardSamples:]\n",
    "print(ArquivoSemHeader.shape)\n",
    "\n",
    "Imagem = ArquivoSemHeader.reshape(imageLines, extendedLine)\n",
    "print(ArquivoSemHeader.shape)"
   ]
  },
  {
   "cell_type": "code",
   "execution_count": null,
   "metadata": {},
   "outputs": [],
   "source": [
    "with open('Teste16.RAW', 'wb') as f:\n",
    "    np.save(f, Imagem)"
   ]
  },
  {
   "cell_type": "code",
   "execution_count": null,
   "metadata": {},
   "outputs": [],
   "source": [
    "plt.imshow(Imagem, cmap=\"gray\")\n",
    "plt.savefig(\"PDS.png\")\n",
    "plt.show()"
   ]
  },
  {
   "cell_type": "code",
   "execution_count": null,
   "metadata": {},
   "outputs": [],
   "source": [
    "#NomeDoArquivo = imageName\n",
    "#BytesHeader = headerBytes\n",
    "#BytesTelemetria = telemetryBytes\n",
    "#ByteInicialdaImagem = discardBytes\n",
    "#sampleBits = int(input(\"sample bits: \"))\n",
    "#ImageLines = int(input(\"image lines: \"))\n",
    "#ImageCols = int(input(\"image cols: \"))\n",
    "#PrefixBytes = int(input(\"prefix bytes: \"))\n",
    "#PrefixPixels = int(8*PrefixBytes / SampleBits)"
   ]
  },
  {
   "cell_type": "code",
   "execution_count": null,
   "metadata": {},
   "outputs": [],
   "source": []
  }
 ],
 "metadata": {
  "kernelspec": {
   "display_name": "Python 3",
   "language": "python",
   "name": "python3"
  },
  "language_info": {
   "codemirror_mode": {
    "name": "ipython",
    "version": 3
   },
   "file_extension": ".py",
   "mimetype": "text/x-python",
   "name": "python",
   "nbconvert_exporter": "python",
   "pygments_lexer": "ipython3",
   "version": "3.7.6"
  }
 },
 "nbformat": 4,
 "nbformat_minor": 4
}
